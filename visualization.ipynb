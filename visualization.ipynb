{
 "cells": [
  {
   "cell_type": "code",
   "execution_count": null,
   "metadata": {},
   "outputs": [],
   "source": []
  },
  {
   "cell_type": "code",
   "execution_count": null,
   "metadata": {},
   "outputs": [],
   "source": [
    "import pandas as pd\n",
    "import matplotlib.pyplot as plt\n",
    "\n",
    "# Đọc dữ liệu từ file CSV\n",
    "data = pd.read_csv(\"output_02_thread.csv\")\n",
    "\n",
    "# Lấy danh sách các giá trị SIZE\n",
    "sizes = data[\"SIZE\"].unique()\n",
    "\n",
    "# Lấy danh sách các phương án (Program)\n",
    "programs = data[\"Program\"].unique()\n",
    "\n",
    "# Vẽ biểu đồ\n",
    "plt.figure(figsize=(10, 6))\n",
    "\n",
    "for program in programs:\n",
    "    # Lọc dữ liệu cho từng phương án\n",
    "    program_data = data[data[\"Program\"] == program]\n",
    "    plt.plot(program_data[\"SIZE\"], program_data[\"Time (seconds)\"], marker='o', label=program)\n",
    "\n",
    "# Thiết lập tiêu đề và nhãn\n",
    "plt.title(\"So sánh thời gian chạy của các phương án\", fontsize=16)\n",
    "plt.xlabel(\"Kích thước mảng (SIZE)\", fontsize=12)\n",
    "plt.ylabel(\"Thời gian chạy (giây)\", fontsize=12)\n",
    "plt.legend(title=\"Phương án\", fontsize=10)\n",
    "plt.grid(True)\n",
    "\n",
    "# Hiển thị biểu đồ\n",
    "plt.show()"
   ]
  }
 ],
 "metadata": {
  "kernelspec": {
   "display_name": "as",
   "language": "python",
   "name": "python3"
  },
  "language_info": {
   "name": "python",
   "version": "3.12.9"
  }
 },
 "nbformat": 4,
 "nbformat_minor": 2
}
